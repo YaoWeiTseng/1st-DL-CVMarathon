{
 "cells": [
  {
   "cell_type": "markdown",
   "metadata": {},
   "source": [
    "## 練習時間\n",
    "#### 請寫一個函式用來計算 Mean Square Error\n",
    "$ MSE = \\frac{1}{n}\\sum_{i=1}^{n}{(Y_i - \\hat{Y}_i)^2} $\n",
    "\n",
    "### Hint: [如何取平方](https://googoodesign.gitbooks.io/-ezpython/unit-1.html)"
   ]
  },
  {
   "cell_type": "markdown",
   "metadata": {},
   "source": [
    "# [作業目標]\n",
    "- 仿造範例的MAE函數, 自己寫一個MSE函數(參考上面公式)"
   ]
  },
  {
   "cell_type": "markdown",
   "metadata": {},
   "source": [
    "# [作業重點]\n",
    "- 注意程式的縮排\n",
    "- 是否能將數學公式, 轉換為 Python 的函式組合? (In[2], Out[2])"
   ]
  },
  {
   "cell_type": "code",
   "execution_count": 1,
   "metadata": {},
   "outputs": [],
   "source": [
    "# 載入基礎套件與代稱\n",
    "import numpy as np\n",
    "import matplotlib.pyplot as plt"
   ]
  },
  {
   "cell_type": "code",
   "execution_count": 2,
   "metadata": {},
   "outputs": [],
   "source": [
    "def mean_absolute_error(y, yp):\n",
    "    \"\"\"\n",
    "    計算 MAE\n",
    "    Args:\n",
    "        - y: 實際值\n",
    "        - yp: 預測值\n",
    "    Return:\n",
    "        - mae: MAE\n",
    "    \"\"\"\n",
    "    mae = MAE = sum(abs(y - yp)) / len(y)\n",
    "    return mae\n",
    "\n",
    "# 定義 mean_squared_error 這個函數, 計算並傳回 MSE\n",
    "def mean_squared_error(y, yp):\n",
    "    \"\"\"\n",
    "    請完成這個 Function 後往下執行\n",
    "    \"\"\"\n",
    "    mse = MSE = sum((y - yp)**2) / len(y)\n",
    "    return mse"
   ]
  },
  {
   "cell_type": "code",
   "execution_count": 15,
   "metadata": {},
   "outputs": [
    {
     "name": "stdout",
     "output_type": "stream",
     "text": [
      "x_lin =  [  0.   1.   2.   3.   4.   5.   6.   7.   8.   9.  10.  11.  12.  13.\n",
      "  14.  15.  16.  17.  18.  19.  20.  21.  22.  23.  24.  25.  26.  27.\n",
      "  28.  29.  30.  31.  32.  33.  34.  35.  36.  37.  38.  39.  40.  41.\n",
      "  42.  43.  44.  45.  46.  47.  48.  49.  50.  51.  52.  53.  54.  55.\n",
      "  56.  57.  58.  59.  60.  61.  62.  63.  64.  65.  66.  67.  68.  69.\n",
      "  70.  71.  72.  73.  74.  75.  76.  77.  78.  79.  80.  81.  82.  83.\n",
      "  84.  85.  86.  87.  88.  89.  90.  91.  92.  93.  94.  95.  96.  97.\n",
      "  98.  99. 100.]\n",
      "y =  [-16.3321915  -21.98593811  11.95098519  -8.1773521   17.31184641\n",
      "  25.78483651  10.69127597  -0.65989986  34.56302742  43.85019517\n",
      "  18.84145993  30.50017464  19.59208123  45.71074737  53.65573505\n",
      "  40.30867688  29.63792892  49.10271581  75.91844245  54.5702646\n",
      "  33.37325717  82.67856145  50.79532414  71.82391767  44.91421122\n",
      "  67.70537584  90.23247807  88.14798229  90.2623675   93.3151395\n",
      "  79.25898354  80.74137623 119.12143039 124.42957849 103.5729768\n",
      "  78.5264647   96.74586045 115.44561027 100.06322654  98.39011101\n",
      " 108.40496862 134.8504015  145.36825498 120.58381632 114.68624904\n",
      " 126.55731227 143.88285029 137.83926493 164.77441703 158.0028026\n",
      " 156.50556892 159.94169599 161.97327154 133.5715329  135.41598093\n",
      " 163.94872712 207.08744877 186.29832677 203.84813757 180.45981196\n",
      " 148.64970892 182.22907213 208.93275597 171.72514098 195.45263703\n",
      " 194.83866319 194.94887157 205.09535488 196.92810714 200.65453439\n",
      " 194.8736265  215.73597661 200.31595687 239.50287031 232.74739072\n",
      " 229.57866165 222.13495328 228.39977658 243.44368924 239.67166555\n",
      " 243.76043187 232.92515788 248.14039669 265.56503973 268.00839511\n",
      " 270.58115233 253.48784804 285.95471907 249.69936173 272.84173393\n",
      " 283.02440067 281.49956326 303.58385403 286.00514861 290.57643612\n",
      " 314.58887102 306.62318365 288.5116489  296.99311579 304.91038492\n",
      " 313.99802583]\n"
     ]
    }
   ],
   "source": [
    "# 與範例相同, 不另外解說\n",
    "w = 3\n",
    "b = 0.5\n",
    "x_lin = np.linspace(0, 100, 101)\n",
    "print(\"x_lin = \", x_lin)\n",
    "y = (x_lin + np.random.randn(101) * 5) * w + b\n",
    "print(\"y = \", y)"
   ]
  },
  {
   "cell_type": "code",
   "execution_count": 16,
   "metadata": {},
   "outputs": [
    {
     "data": {
      "image/png": "[encoded data removed]",
      "text/plain": [
       "<Figure size 432x288 with 1 Axes>"
      ]
     },
     "metadata": {
      "needs_background": "light"
     },
     "output_type": "display_data"
    }
   ],
   "source": [
    "plt.plot(x_lin, y, 'b.', label = 'data points')\n",
    "plt.title(\"Assume we have data points\")\n",
    "plt.legend(loc = 4)\n",
    "plt.show()"
   ]
  },
  {
   "cell_type": "code",
   "execution_count": 17,
   "metadata": {},
   "outputs": [
    {
     "data": {
      "image/png": "[encoded data removed]",
      "text/plain": [
       "<Figure size 432x288 with 1 Axes>"
      ]
     },
     "metadata": {
      "needs_background": "light"
     },
     "output_type": "display_data"
    }
   ],
   "source": [
    "# 與範例相同, 不另外解說\n",
    "y_hat = x_lin * w + b\n",
    "plt.plot(x_lin, y, 'b.', label = 'data')\n",
    "plt.plot(x_lin, y_hat, 'r-', label = 'prediction')\n",
    "plt.title(\"Assume we have data points (And the prediction)\")\n",
    "plt.legend(loc = 2)\n",
    "plt.show()"
   ]
  },
  {
   "cell_type": "code",
   "execution_count": 18,
   "metadata": {},
   "outputs": [
    {
     "name": "stdout",
     "output_type": "stream",
     "text": [
      "The Mean squared error is 219.772\n",
      "The Mean absolute error is 12.140\n"
     ]
    }
   ],
   "source": [
    "# 執行 Function, 確認有沒有正常執行\n",
    "MSE = mean_squared_error(y, y_hat)\n",
    "MAE = mean_absolute_error(y, y_hat)\n",
    "print(\"The Mean squared error is %.3f\" % (MSE))\n",
    "print(\"The Mean absolute error is %.3f\" % (MAE))"
   ]
  },
  {
   "cell_type": "markdown",
   "metadata": {},
   "source": [
    "# [作業2]\n",
    "\n",
    "請上 Kaggle, 在 Competitions 或 Dataset 中找一組競賽或資料並寫下：\n",
    "\n",
    "1. 你選的這組資料為何重要\n",
    "   選擇資料：Crimes in Boston / 網址：https://www.kaggle.com/AnalyzeBoston/crimes-in-boston\n",
    "   此資料為波士頓地區2015年6月14日至2018年9月3日的犯罪紀錄。為了有效防範於未然，了解地區的犯罪或是違規情況相當重要。犯罪紀錄能將這段時間內的犯罪紀錄分門別類，並且整理出何種犯罪類型最為常見，或是此地區犯罪率的變化，以預測未來可能增加或減少的犯罪類型，並擬定相關政策。\n",
    "\n",
    "2. 資料從何而來 (tips: 譬如提供者是誰、以什麼方式蒐集)\n",
    "   資料提供者：Analyze Boston，由波士頓警察局提供犯罪事件報告\n",
    "\n",
    "3. 蒐集而來的資料型態為何\n",
    "   為結構性資料，呈現方式為表格\n",
    "   欄位包含：違規代碼、違規類別、說明、區域、報告區域、是否槍擊發生、發生在日期、年、月、星期幾、小時、UCR PART、街、緯度、經度、地點\n",
    "\n",
    "4. 這組資料想解決的問題如何評估\n",
    "   不同時間點各地區的犯罪情況->預測哪些地區較會發生何種犯罪->利用ROC曲線\n",
    "   \n",
    "\n",
    "\n",
    "\n",
    "\n",
    "\n",
    "\n",
    "# [作業3]\n",
    "\n",
    "想像你經營一個自由載客車隊，你希望能透過數據分析以提升業績，請你思考並描述你如何規劃整體的分析/解決方案：\n",
    "\n",
    "1. 核心問題為何 (tips：如何定義 「提升業績 & 你的假設」)\n",
    "   如何提升業績->如何提升固定時間(假設一季)內總收入->如何在固定時間內提升總載客次數及總載客里程\n",
    "\n",
    "\n",
    "2. 資料從何而來 (tips：哪些資料可能會對你想問的問題產生影響 & 資料如何蒐集)\n",
    "   假設所有顧客皆以app叫車，叫車的資訊皆會回傳至雲端資料庫中\n",
    "   例如，顧客上、下車地點，此趟里程數，此趟收費金額，顧客叫車時間，接單司機編號\n",
    "\n",
    "3. 蒐集而來的資料型態為何\n",
    "   為結構性資料，以表格呈現\n",
    "\n",
    "4. 你要回答的問題，其如何評估 (tips：你的假設如何驗證)\n",
    "   透過資料分析出在何處叫車的顧客會有較高里程數的需求\n",
    "   在不同時間點何處較容易有更多的需求\n",
    "   在不同時間點各司機接單的頻率\n",
    "   "
   ]
  },
  {
   "cell_type": "code",
   "execution_count": null,
   "metadata": {},
   "outputs": [],
   "source": []
  }
 ],
 "metadata": {
  "anaconda-cloud": {},
  "kernelspec": {
   "display_name": "Python 3",
   "language": "python",
   "name": "python3"
  },
  "language_info": {
   "codemirror_mode": {
    "name": "ipython",
    "version": 3
   },
   "file_extension": ".py",
   "mimetype": "text/x-python",
   "name": "python",
   "nbconvert_exporter": "python",
   "pygments_lexer": "ipython3",
   "version": "3.7.3"
  }
 },
 "nbformat": 4,
 "nbformat_minor": 1
}
